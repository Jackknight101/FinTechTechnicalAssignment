{
 "cells": [
  {
   "cell_type": "code",
   "execution_count": 1,
   "metadata": {},
   "outputs": [],
   "source": [
    "import pandas as pd"
   ]
  },
  {
   "cell_type": "code",
   "execution_count": 2,
   "metadata": {},
   "outputs": [],
   "source": [
    "import numpy as np"
   ]
  },
  {
   "cell_type": "code",
   "execution_count": 3,
   "metadata": {
    "scrolled": true
   },
   "outputs": [
    {
     "name": "stdout",
     "output_type": "stream",
     "text": [
      "Requirement already satisfied: Quandl in /opt/anaconda3/lib/python3.8/site-packages (3.6.1)\n",
      "Requirement already satisfied: numpy>=1.8 in /opt/anaconda3/lib/python3.8/site-packages (from Quandl) (1.19.2)\n",
      "Requirement already satisfied: requests>=2.7.0 in /opt/anaconda3/lib/python3.8/site-packages (from Quandl) (2.24.0)\n",
      "Requirement already satisfied: six in /opt/anaconda3/lib/python3.8/site-packages (from Quandl) (1.15.0)\n",
      "Requirement already satisfied: more-itertools in /opt/anaconda3/lib/python3.8/site-packages (from Quandl) (8.6.0)\n",
      "Requirement already satisfied: python-dateutil in /opt/anaconda3/lib/python3.8/site-packages (from Quandl) (2.8.1)\n",
      "Requirement already satisfied: inflection>=0.3.1 in /opt/anaconda3/lib/python3.8/site-packages (from Quandl) (0.5.1)\n",
      "Requirement already satisfied: pandas>=0.14 in /opt/anaconda3/lib/python3.8/site-packages (from Quandl) (1.1.3)\n",
      "Requirement already satisfied: chardet<4,>=3.0.2 in /opt/anaconda3/lib/python3.8/site-packages (from requests>=2.7.0->Quandl) (3.0.4)\n",
      "Requirement already satisfied: urllib3!=1.25.0,!=1.25.1,<1.26,>=1.21.1 in /opt/anaconda3/lib/python3.8/site-packages (from requests>=2.7.0->Quandl) (1.25.11)\n",
      "Requirement already satisfied: idna<3,>=2.5 in /opt/anaconda3/lib/python3.8/site-packages (from requests>=2.7.0->Quandl) (2.10)\n",
      "Requirement already satisfied: certifi>=2017.4.17 in /opt/anaconda3/lib/python3.8/site-packages (from requests>=2.7.0->Quandl) (2020.6.20)\n",
      "Requirement already satisfied: pytz>=2017.2 in /opt/anaconda3/lib/python3.8/site-packages (from pandas>=0.14->Quandl) (2020.1)\n",
      "Note: you may need to restart the kernel to use updated packages.\n"
     ]
    }
   ],
   "source": [
    "pip install Quandl"
   ]
  },
  {
   "cell_type": "code",
   "execution_count": 4,
   "metadata": {},
   "outputs": [
    {
     "name": "stdout",
     "output_type": "stream",
     "text": [
      "Requirement already satisfied: cryptocompare in /opt/anaconda3/lib/python3.8/site-packages (0.7.5)\n",
      "Requirement already satisfied: requests in /opt/anaconda3/lib/python3.8/site-packages (from cryptocompare) (2.24.0)\n",
      "Requirement already satisfied: idna<3,>=2.5 in /opt/anaconda3/lib/python3.8/site-packages (from requests->cryptocompare) (2.10)\n",
      "Requirement already satisfied: chardet<4,>=3.0.2 in /opt/anaconda3/lib/python3.8/site-packages (from requests->cryptocompare) (3.0.4)\n",
      "Requirement already satisfied: urllib3!=1.25.0,!=1.25.1,<1.26,>=1.21.1 in /opt/anaconda3/lib/python3.8/site-packages (from requests->cryptocompare) (1.25.11)\n",
      "Requirement already satisfied: certifi>=2017.4.17 in /opt/anaconda3/lib/python3.8/site-packages (from requests->cryptocompare) (2020.6.20)\n",
      "Note: you may need to restart the kernel to use updated packages.\n"
     ]
    }
   ],
   "source": [
    "pip install cryptocompare"
   ]
  },
  {
   "cell_type": "code",
   "execution_count": 5,
   "metadata": {},
   "outputs": [],
   "source": [
    "import quandl"
   ]
  },
  {
   "cell_type": "code",
   "execution_count": 6,
   "metadata": {},
   "outputs": [],
   "source": [
    "import cryptocompare"
   ]
  },
  {
   "cell_type": "code",
   "execution_count": 7,
   "metadata": {},
   "outputs": [],
   "source": [
    "import json"
   ]
  },
  {
   "cell_type": "code",
   "execution_count": 8,
   "metadata": {},
   "outputs": [],
   "source": [
    "import requests"
   ]
  },
  {
   "cell_type": "markdown",
   "metadata": {},
   "source": [
    "I'm using both the cryptocompare and Quandl API to import the relevant data"
   ]
  },
  {
   "cell_type": "code",
   "execution_count": 9,
   "metadata": {},
   "outputs": [],
   "source": [
    "quandl.ApiConfig.api_key='N9vQgebCHLyo9-y2PkHP'"
   ]
  },
  {
   "cell_type": "code",
   "execution_count": 10,
   "metadata": {},
   "outputs": [],
   "source": [
    "URL2= 'https://min-api.cryptocompare.com/data/v2/histoday?fsym=BTC&tsym=USD&limit=100&api_key=7fdd6a76832f296f9579100f25868ed7b30a5aed46915fdfe2e9c3c26a075879'"
   ]
  },
  {
   "cell_type": "code",
   "execution_count": 11,
   "metadata": {},
   "outputs": [],
   "source": [
    "answer= requests.get(URL2)"
   ]
  },
  {
   "cell_type": "code",
   "execution_count": 12,
   "metadata": {},
   "outputs": [],
   "source": [
    "yt=json.loads(answer.text)"
   ]
  },
  {
   "cell_type": "code",
   "execution_count": 13,
   "metadata": {},
   "outputs": [],
   "source": [
    "import datetime"
   ]
  },
  {
   "cell_type": "markdown",
   "metadata": {},
   "source": [
    "Import Bitcoin timeseries data from Cryptocompare"
   ]
  },
  {
   "cell_type": "code",
   "execution_count": 14,
   "metadata": {},
   "outputs": [],
   "source": [
    "yt= cryptocompare.get_historical_price_day('BTC', 'USD', limit=249, exchange='CCCAGG', toTs=datetime.datetime(2014,1,1))"
   ]
  },
  {
   "cell_type": "code",
   "execution_count": 15,
   "metadata": {},
   "outputs": [],
   "source": [
    "df = pd.DataFrame(data=yt, dtype=np.int8)"
   ]
  },
  {
   "cell_type": "code",
   "execution_count": 16,
   "metadata": {},
   "outputs": [
    {
     "data": {
      "text/html": [
       "<div>\n",
       "<style scoped>\n",
       "    .dataframe tbody tr th:only-of-type {\n",
       "        vertical-align: middle;\n",
       "    }\n",
       "\n",
       "    .dataframe tbody tr th {\n",
       "        vertical-align: top;\n",
       "    }\n",
       "\n",
       "    .dataframe thead th {\n",
       "        text-align: right;\n",
       "    }\n",
       "</style>\n",
       "<table border=\"1\" class=\"dataframe\">\n",
       "  <thead>\n",
       "    <tr style=\"text-align: right;\">\n",
       "      <th></th>\n",
       "      <th>time</th>\n",
       "      <th>high</th>\n",
       "      <th>low</th>\n",
       "      <th>open</th>\n",
       "      <th>volumefrom</th>\n",
       "      <th>volumeto</th>\n",
       "      <th>close</th>\n",
       "      <th>conversionType</th>\n",
       "      <th>conversionSymbol</th>\n",
       "    </tr>\n",
       "  </thead>\n",
       "  <tbody>\n",
       "    <tr>\n",
       "      <th>0</th>\n",
       "      <td>0</td>\n",
       "      <td>139.88</td>\n",
       "      <td>122.71</td>\n",
       "      <td>136.90</td>\n",
       "      <td>59881.87</td>\n",
       "      <td>7855443.65</td>\n",
       "      <td>128.00</td>\n",
       "      <td>direct</td>\n",
       "      <td></td>\n",
       "    </tr>\n",
       "    <tr>\n",
       "      <th>1</th>\n",
       "      <td>-128</td>\n",
       "      <td>136.68</td>\n",
       "      <td>127.50</td>\n",
       "      <td>128.00</td>\n",
       "      <td>27523.74</td>\n",
       "      <td>3665399.85</td>\n",
       "      <td>134.44</td>\n",
       "      <td>direct</td>\n",
       "      <td></td>\n",
       "    </tr>\n",
       "    <tr>\n",
       "      <th>2</th>\n",
       "      <td>0</td>\n",
       "      <td>149.08</td>\n",
       "      <td>133.00</td>\n",
       "      <td>134.44</td>\n",
       "      <td>70206.17</td>\n",
       "      <td>9987126.11</td>\n",
       "      <td>144.00</td>\n",
       "      <td>direct</td>\n",
       "      <td></td>\n",
       "    </tr>\n",
       "    <tr>\n",
       "      <th>3</th>\n",
       "      <td>-128</td>\n",
       "      <td>146.93</td>\n",
       "      <td>134.00</td>\n",
       "      <td>144.00</td>\n",
       "      <td>65232.20</td>\n",
       "      <td>9124397.28</td>\n",
       "      <td>139.23</td>\n",
       "      <td>direct</td>\n",
       "      <td></td>\n",
       "    </tr>\n",
       "    <tr>\n",
       "      <th>4</th>\n",
       "      <td>0</td>\n",
       "      <td>140.06</td>\n",
       "      <td>104.00</td>\n",
       "      <td>139.23</td>\n",
       "      <td>180008.97</td>\n",
       "      <td>21790982.26</td>\n",
       "      <td>116.38</td>\n",
       "      <td>direct</td>\n",
       "      <td></td>\n",
       "    </tr>\n",
       "    <tr>\n",
       "      <th>...</th>\n",
       "      <td>...</td>\n",
       "      <td>...</td>\n",
       "      <td>...</td>\n",
       "      <td>...</td>\n",
       "      <td>...</td>\n",
       "      <td>...</td>\n",
       "      <td>...</td>\n",
       "      <td>...</td>\n",
       "      <td>...</td>\n",
       "    </tr>\n",
       "    <tr>\n",
       "      <th>245</th>\n",
       "      <td>-128</td>\n",
       "      <td>805.97</td>\n",
       "      <td>715.60</td>\n",
       "      <td>803.05</td>\n",
       "      <td>13341.62</td>\n",
       "      <td>10127883.44</td>\n",
       "      <td>761.99</td>\n",
       "      <td>direct</td>\n",
       "      <td></td>\n",
       "    </tr>\n",
       "    <tr>\n",
       "      <th>246</th>\n",
       "      <td>0</td>\n",
       "      <td>803.95</td>\n",
       "      <td>734.98</td>\n",
       "      <td>761.99</td>\n",
       "      <td>7035.87</td>\n",
       "      <td>5448579.59</td>\n",
       "      <td>784.96</td>\n",
       "      <td>direct</td>\n",
       "      <td></td>\n",
       "    </tr>\n",
       "    <tr>\n",
       "      <th>247</th>\n",
       "      <td>-128</td>\n",
       "      <td>818.83</td>\n",
       "      <td>780.96</td>\n",
       "      <td>784.96</td>\n",
       "      <td>10482.78</td>\n",
       "      <td>8411786.62</td>\n",
       "      <td>804.83</td>\n",
       "      <td>direct</td>\n",
       "      <td></td>\n",
       "    </tr>\n",
       "    <tr>\n",
       "      <th>248</th>\n",
       "      <td>0</td>\n",
       "      <td>813.94</td>\n",
       "      <td>776.96</td>\n",
       "      <td>804.83</td>\n",
       "      <td>9167.06</td>\n",
       "      <td>7294004.88</td>\n",
       "      <td>805.94</td>\n",
       "      <td>direct</td>\n",
       "      <td></td>\n",
       "    </tr>\n",
       "    <tr>\n",
       "      <th>249</th>\n",
       "      <td>-128</td>\n",
       "      <td>829.93</td>\n",
       "      <td>770.97</td>\n",
       "      <td>805.94</td>\n",
       "      <td>10757.23</td>\n",
       "      <td>8663855.98</td>\n",
       "      <td>815.94</td>\n",
       "      <td>direct</td>\n",
       "      <td></td>\n",
       "    </tr>\n",
       "  </tbody>\n",
       "</table>\n",
       "<p>250 rows × 9 columns</p>\n",
       "</div>"
      ],
      "text/plain": [
       "     time    high     low    open  volumefrom     volumeto   close  \\\n",
       "0       0  139.88  122.71  136.90    59881.87   7855443.65  128.00   \n",
       "1    -128  136.68  127.50  128.00    27523.74   3665399.85  134.44   \n",
       "2       0  149.08  133.00  134.44    70206.17   9987126.11  144.00   \n",
       "3    -128  146.93  134.00  144.00    65232.20   9124397.28  139.23   \n",
       "4       0  140.06  104.00  139.23   180008.97  21790982.26  116.38   \n",
       "..    ...     ...     ...     ...         ...          ...     ...   \n",
       "245  -128  805.97  715.60  803.05    13341.62  10127883.44  761.99   \n",
       "246     0  803.95  734.98  761.99     7035.87   5448579.59  784.96   \n",
       "247  -128  818.83  780.96  784.96    10482.78   8411786.62  804.83   \n",
       "248     0  813.94  776.96  804.83     9167.06   7294004.88  805.94   \n",
       "249  -128  829.93  770.97  805.94    10757.23   8663855.98  815.94   \n",
       "\n",
       "    conversionType conversionSymbol  \n",
       "0           direct                   \n",
       "1           direct                   \n",
       "2           direct                   \n",
       "3           direct                   \n",
       "4           direct                   \n",
       "..             ...              ...  \n",
       "245         direct                   \n",
       "246         direct                   \n",
       "247         direct                   \n",
       "248         direct                   \n",
       "249         direct                   \n",
       "\n",
       "[250 rows x 9 columns]"
      ]
     },
     "execution_count": 16,
     "metadata": {},
     "output_type": "execute_result"
    }
   ],
   "source": [
    "df"
   ]
  },
  {
   "cell_type": "code",
   "execution_count": 17,
   "metadata": {},
   "outputs": [],
   "source": [
    "yt= df.drop(['high','low','open','volumefrom','volumeto','conversionType','conversionSymbol','time'], axis=1)"
   ]
  },
  {
   "cell_type": "code",
   "execution_count": 18,
   "metadata": {},
   "outputs": [
    {
     "data": {
      "text/html": [
       "<div>\n",
       "<style scoped>\n",
       "    .dataframe tbody tr th:only-of-type {\n",
       "        vertical-align: middle;\n",
       "    }\n",
       "\n",
       "    .dataframe tbody tr th {\n",
       "        vertical-align: top;\n",
       "    }\n",
       "\n",
       "    .dataframe thead th {\n",
       "        text-align: right;\n",
       "    }\n",
       "</style>\n",
       "<table border=\"1\" class=\"dataframe\">\n",
       "  <thead>\n",
       "    <tr style=\"text-align: right;\">\n",
       "      <th></th>\n",
       "      <th>close</th>\n",
       "    </tr>\n",
       "  </thead>\n",
       "  <tbody>\n",
       "    <tr>\n",
       "      <th>0</th>\n",
       "      <td>128.00</td>\n",
       "    </tr>\n",
       "    <tr>\n",
       "      <th>1</th>\n",
       "      <td>134.44</td>\n",
       "    </tr>\n",
       "    <tr>\n",
       "      <th>2</th>\n",
       "      <td>144.00</td>\n",
       "    </tr>\n",
       "    <tr>\n",
       "      <th>3</th>\n",
       "      <td>139.23</td>\n",
       "    </tr>\n",
       "    <tr>\n",
       "      <th>4</th>\n",
       "      <td>116.38</td>\n",
       "    </tr>\n",
       "    <tr>\n",
       "      <th>...</th>\n",
       "      <td>...</td>\n",
       "    </tr>\n",
       "    <tr>\n",
       "      <th>245</th>\n",
       "      <td>761.99</td>\n",
       "    </tr>\n",
       "    <tr>\n",
       "      <th>246</th>\n",
       "      <td>784.96</td>\n",
       "    </tr>\n",
       "    <tr>\n",
       "      <th>247</th>\n",
       "      <td>804.83</td>\n",
       "    </tr>\n",
       "    <tr>\n",
       "      <th>248</th>\n",
       "      <td>805.94</td>\n",
       "    </tr>\n",
       "    <tr>\n",
       "      <th>249</th>\n",
       "      <td>815.94</td>\n",
       "    </tr>\n",
       "  </tbody>\n",
       "</table>\n",
       "<p>250 rows × 1 columns</p>\n",
       "</div>"
      ],
      "text/plain": [
       "      close\n",
       "0    128.00\n",
       "1    134.44\n",
       "2    144.00\n",
       "3    139.23\n",
       "4    116.38\n",
       "..      ...\n",
       "245  761.99\n",
       "246  784.96\n",
       "247  804.83\n",
       "248  805.94\n",
       "249  815.94\n",
       "\n",
       "[250 rows x 1 columns]"
      ]
     },
     "execution_count": 18,
     "metadata": {},
     "output_type": "execute_result"
    }
   ],
   "source": [
    "yt"
   ]
  },
  {
   "cell_type": "code",
   "execution_count": 19,
   "metadata": {},
   "outputs": [],
   "source": [
    "import numpy as np"
   ]
  },
  {
   "cell_type": "markdown",
   "metadata": {},
   "source": [
    "Importing GBP/ USD exchange rate from Quandl. This time series was chosen as it is reported 7 days a week opposed to 5 of regular stocks, this means that it matches the time period of the Bitcoin time series"
   ]
  },
  {
   "cell_type": "code",
   "execution_count": 20,
   "metadata": {},
   "outputs": [],
   "source": [
    "xt= quandl.get('CUR/GBP', start_date='2014-01-01', end_date='2014-09-08')"
   ]
  },
  {
   "cell_type": "code",
   "execution_count": 21,
   "metadata": {},
   "outputs": [
    {
     "data": {
      "text/plain": [
       "(250, 1)"
      ]
     },
     "execution_count": 21,
     "metadata": {},
     "output_type": "execute_result"
    }
   ],
   "source": [
    "xt.shape"
   ]
  },
  {
   "cell_type": "code",
   "execution_count": 22,
   "metadata": {},
   "outputs": [
    {
     "data": {
      "text/plain": [
       "(250, 1)"
      ]
     },
     "execution_count": 22,
     "metadata": {},
     "output_type": "execute_result"
    }
   ],
   "source": [
    "yt.shape"
   ]
  },
  {
   "cell_type": "code",
   "execution_count": 23,
   "metadata": {},
   "outputs": [
    {
     "data": {
      "text/html": [
       "<div>\n",
       "<style scoped>\n",
       "    .dataframe tbody tr th:only-of-type {\n",
       "        vertical-align: middle;\n",
       "    }\n",
       "\n",
       "    .dataframe tbody tr th {\n",
       "        vertical-align: top;\n",
       "    }\n",
       "\n",
       "    .dataframe thead th {\n",
       "        text-align: right;\n",
       "    }\n",
       "</style>\n",
       "<table border=\"1\" class=\"dataframe\">\n",
       "  <thead>\n",
       "    <tr style=\"text-align: right;\">\n",
       "      <th></th>\n",
       "      <th>close</th>\n",
       "    </tr>\n",
       "  </thead>\n",
       "  <tbody>\n",
       "    <tr>\n",
       "      <th>0</th>\n",
       "      <td>128.00</td>\n",
       "    </tr>\n",
       "    <tr>\n",
       "      <th>1</th>\n",
       "      <td>134.44</td>\n",
       "    </tr>\n",
       "    <tr>\n",
       "      <th>2</th>\n",
       "      <td>144.00</td>\n",
       "    </tr>\n",
       "    <tr>\n",
       "      <th>3</th>\n",
       "      <td>139.23</td>\n",
       "    </tr>\n",
       "    <tr>\n",
       "      <th>4</th>\n",
       "      <td>116.38</td>\n",
       "    </tr>\n",
       "    <tr>\n",
       "      <th>...</th>\n",
       "      <td>...</td>\n",
       "    </tr>\n",
       "    <tr>\n",
       "      <th>245</th>\n",
       "      <td>761.99</td>\n",
       "    </tr>\n",
       "    <tr>\n",
       "      <th>246</th>\n",
       "      <td>784.96</td>\n",
       "    </tr>\n",
       "    <tr>\n",
       "      <th>247</th>\n",
       "      <td>804.83</td>\n",
       "    </tr>\n",
       "    <tr>\n",
       "      <th>248</th>\n",
       "      <td>805.94</td>\n",
       "    </tr>\n",
       "    <tr>\n",
       "      <th>249</th>\n",
       "      <td>815.94</td>\n",
       "    </tr>\n",
       "  </tbody>\n",
       "</table>\n",
       "<p>250 rows × 1 columns</p>\n",
       "</div>"
      ],
      "text/plain": [
       "      close\n",
       "0    128.00\n",
       "1    134.44\n",
       "2    144.00\n",
       "3    139.23\n",
       "4    116.38\n",
       "..      ...\n",
       "245  761.99\n",
       "246  784.96\n",
       "247  804.83\n",
       "248  805.94\n",
       "249  815.94\n",
       "\n",
       "[250 rows x 1 columns]"
      ]
     },
     "execution_count": 23,
     "metadata": {},
     "output_type": "execute_result"
    }
   ],
   "source": [
    "yt"
   ]
  },
  {
   "cell_type": "code",
   "execution_count": 24,
   "metadata": {},
   "outputs": [
    {
     "data": {
      "text/html": [
       "<div>\n",
       "<style scoped>\n",
       "    .dataframe tbody tr th:only-of-type {\n",
       "        vertical-align: middle;\n",
       "    }\n",
       "\n",
       "    .dataframe tbody tr th {\n",
       "        vertical-align: top;\n",
       "    }\n",
       "\n",
       "    .dataframe thead th {\n",
       "        text-align: right;\n",
       "    }\n",
       "</style>\n",
       "<table border=\"1\" class=\"dataframe\">\n",
       "  <thead>\n",
       "    <tr style=\"text-align: right;\">\n",
       "      <th></th>\n",
       "      <th>RATE</th>\n",
       "    </tr>\n",
       "    <tr>\n",
       "      <th>DATE</th>\n",
       "      <th></th>\n",
       "    </tr>\n",
       "  </thead>\n",
       "  <tbody>\n",
       "    <tr>\n",
       "      <th>2014-01-01</th>\n",
       "      <td>0.603652</td>\n",
       "    </tr>\n",
       "    <tr>\n",
       "      <th>2014-01-02</th>\n",
       "      <td>0.608096</td>\n",
       "    </tr>\n",
       "    <tr>\n",
       "      <th>2014-01-03</th>\n",
       "      <td>0.609125</td>\n",
       "    </tr>\n",
       "    <tr>\n",
       "      <th>2014-01-04</th>\n",
       "      <td>0.609153</td>\n",
       "    </tr>\n",
       "    <tr>\n",
       "      <th>2014-01-05</th>\n",
       "      <td>0.609537</td>\n",
       "    </tr>\n",
       "    <tr>\n",
       "      <th>...</th>\n",
       "      <td>...</td>\n",
       "    </tr>\n",
       "    <tr>\n",
       "      <th>2014-09-04</th>\n",
       "      <td>0.607481</td>\n",
       "    </tr>\n",
       "    <tr>\n",
       "      <th>2014-09-05</th>\n",
       "      <td>0.612671</td>\n",
       "    </tr>\n",
       "    <tr>\n",
       "      <th>2014-09-06</th>\n",
       "      <td>0.612481</td>\n",
       "    </tr>\n",
       "    <tr>\n",
       "      <th>2014-09-07</th>\n",
       "      <td>0.612472</td>\n",
       "    </tr>\n",
       "    <tr>\n",
       "      <th>2014-09-08</th>\n",
       "      <td>0.616798</td>\n",
       "    </tr>\n",
       "  </tbody>\n",
       "</table>\n",
       "<p>250 rows × 1 columns</p>\n",
       "</div>"
      ],
      "text/plain": [
       "                RATE\n",
       "DATE                \n",
       "2014-01-01  0.603652\n",
       "2014-01-02  0.608096\n",
       "2014-01-03  0.609125\n",
       "2014-01-04  0.609153\n",
       "2014-01-05  0.609537\n",
       "...              ...\n",
       "2014-09-04  0.607481\n",
       "2014-09-05  0.612671\n",
       "2014-09-06  0.612481\n",
       "2014-09-07  0.612472\n",
       "2014-09-08  0.616798\n",
       "\n",
       "[250 rows x 1 columns]"
      ]
     },
     "execution_count": 24,
     "metadata": {},
     "output_type": "execute_result"
    }
   ],
   "source": [
    "xt"
   ]
  },
  {
   "cell_type": "code",
   "execution_count": 25,
   "metadata": {},
   "outputs": [],
   "source": [
    "import matplotlib.pyplot as plt"
   ]
  },
  {
   "cell_type": "markdown",
   "metadata": {},
   "source": [
    "After manipulating the data, I now transform it using logs"
   ]
  },
  {
   "cell_type": "code",
   "execution_count": 26,
   "metadata": {},
   "outputs": [],
   "source": [
    "yt['BitcoinReturns']= np.log(yt['close']/df['close'].shift(1))"
   ]
  },
  {
   "cell_type": "code",
   "execution_count": 27,
   "metadata": {},
   "outputs": [
    {
     "data": {
      "text/html": [
       "<div>\n",
       "<style scoped>\n",
       "    .dataframe tbody tr th:only-of-type {\n",
       "        vertical-align: middle;\n",
       "    }\n",
       "\n",
       "    .dataframe tbody tr th {\n",
       "        vertical-align: top;\n",
       "    }\n",
       "\n",
       "    .dataframe thead th {\n",
       "        text-align: right;\n",
       "    }\n",
       "</style>\n",
       "<table border=\"1\" class=\"dataframe\">\n",
       "  <thead>\n",
       "    <tr style=\"text-align: right;\">\n",
       "      <th></th>\n",
       "      <th>close</th>\n",
       "      <th>BitcoinReturns</th>\n",
       "    </tr>\n",
       "  </thead>\n",
       "  <tbody>\n",
       "    <tr>\n",
       "      <th>0</th>\n",
       "      <td>128.00</td>\n",
       "      <td>NaN</td>\n",
       "    </tr>\n",
       "    <tr>\n",
       "      <th>1</th>\n",
       "      <td>134.44</td>\n",
       "      <td>0.049088</td>\n",
       "    </tr>\n",
       "    <tr>\n",
       "      <th>2</th>\n",
       "      <td>144.00</td>\n",
       "      <td>0.068695</td>\n",
       "    </tr>\n",
       "    <tr>\n",
       "      <th>3</th>\n",
       "      <td>139.23</td>\n",
       "      <td>-0.033686</td>\n",
       "    </tr>\n",
       "    <tr>\n",
       "      <th>4</th>\n",
       "      <td>116.38</td>\n",
       "      <td>-0.179267</td>\n",
       "    </tr>\n",
       "    <tr>\n",
       "      <th>...</th>\n",
       "      <td>...</td>\n",
       "      <td>...</td>\n",
       "    </tr>\n",
       "    <tr>\n",
       "      <th>245</th>\n",
       "      <td>761.99</td>\n",
       "      <td>-0.052484</td>\n",
       "    </tr>\n",
       "    <tr>\n",
       "      <th>246</th>\n",
       "      <td>784.96</td>\n",
       "      <td>0.029699</td>\n",
       "    </tr>\n",
       "    <tr>\n",
       "      <th>247</th>\n",
       "      <td>804.83</td>\n",
       "      <td>0.024998</td>\n",
       "    </tr>\n",
       "    <tr>\n",
       "      <th>248</th>\n",
       "      <td>805.94</td>\n",
       "      <td>0.001378</td>\n",
       "    </tr>\n",
       "    <tr>\n",
       "      <th>249</th>\n",
       "      <td>815.94</td>\n",
       "      <td>0.012332</td>\n",
       "    </tr>\n",
       "  </tbody>\n",
       "</table>\n",
       "<p>250 rows × 2 columns</p>\n",
       "</div>"
      ],
      "text/plain": [
       "      close  BitcoinReturns\n",
       "0    128.00             NaN\n",
       "1    134.44        0.049088\n",
       "2    144.00        0.068695\n",
       "3    139.23       -0.033686\n",
       "4    116.38       -0.179267\n",
       "..      ...             ...\n",
       "245  761.99       -0.052484\n",
       "246  784.96        0.029699\n",
       "247  804.83        0.024998\n",
       "248  805.94        0.001378\n",
       "249  815.94        0.012332\n",
       "\n",
       "[250 rows x 2 columns]"
      ]
     },
     "execution_count": 27,
     "metadata": {},
     "output_type": "execute_result"
    }
   ],
   "source": [
    "yt"
   ]
  },
  {
   "cell_type": "code",
   "execution_count": 28,
   "metadata": {},
   "outputs": [],
   "source": [
    "xt['GBP Returns']= np.log(xt['RATE']/xt['RATE'].shift(1))"
   ]
  },
  {
   "cell_type": "code",
   "execution_count": 29,
   "metadata": {},
   "outputs": [
    {
     "data": {
      "text/html": [
       "<div>\n",
       "<style scoped>\n",
       "    .dataframe tbody tr th:only-of-type {\n",
       "        vertical-align: middle;\n",
       "    }\n",
       "\n",
       "    .dataframe tbody tr th {\n",
       "        vertical-align: top;\n",
       "    }\n",
       "\n",
       "    .dataframe thead th {\n",
       "        text-align: right;\n",
       "    }\n",
       "</style>\n",
       "<table border=\"1\" class=\"dataframe\">\n",
       "  <thead>\n",
       "    <tr style=\"text-align: right;\">\n",
       "      <th></th>\n",
       "      <th>RATE</th>\n",
       "      <th>GBP Returns</th>\n",
       "    </tr>\n",
       "    <tr>\n",
       "      <th>DATE</th>\n",
       "      <th></th>\n",
       "      <th></th>\n",
       "    </tr>\n",
       "  </thead>\n",
       "  <tbody>\n",
       "    <tr>\n",
       "      <th>2014-01-01</th>\n",
       "      <td>0.603652</td>\n",
       "      <td>NaN</td>\n",
       "    </tr>\n",
       "    <tr>\n",
       "      <th>2014-01-02</th>\n",
       "      <td>0.608096</td>\n",
       "      <td>0.007335</td>\n",
       "    </tr>\n",
       "    <tr>\n",
       "      <th>2014-01-03</th>\n",
       "      <td>0.609125</td>\n",
       "      <td>0.001691</td>\n",
       "    </tr>\n",
       "    <tr>\n",
       "      <th>2014-01-04</th>\n",
       "      <td>0.609153</td>\n",
       "      <td>0.000046</td>\n",
       "    </tr>\n",
       "    <tr>\n",
       "      <th>2014-01-05</th>\n",
       "      <td>0.609537</td>\n",
       "      <td>0.000630</td>\n",
       "    </tr>\n",
       "    <tr>\n",
       "      <th>...</th>\n",
       "      <td>...</td>\n",
       "      <td>...</td>\n",
       "    </tr>\n",
       "    <tr>\n",
       "      <th>2014-09-04</th>\n",
       "      <td>0.607481</td>\n",
       "      <td>0.000594</td>\n",
       "    </tr>\n",
       "    <tr>\n",
       "      <th>2014-09-05</th>\n",
       "      <td>0.612671</td>\n",
       "      <td>0.008507</td>\n",
       "    </tr>\n",
       "    <tr>\n",
       "      <th>2014-09-06</th>\n",
       "      <td>0.612481</td>\n",
       "      <td>-0.000310</td>\n",
       "    </tr>\n",
       "    <tr>\n",
       "      <th>2014-09-07</th>\n",
       "      <td>0.612472</td>\n",
       "      <td>-0.000015</td>\n",
       "    </tr>\n",
       "    <tr>\n",
       "      <th>2014-09-08</th>\n",
       "      <td>0.616798</td>\n",
       "      <td>0.007038</td>\n",
       "    </tr>\n",
       "  </tbody>\n",
       "</table>\n",
       "<p>250 rows × 2 columns</p>\n",
       "</div>"
      ],
      "text/plain": [
       "                RATE  GBP Returns\n",
       "DATE                             \n",
       "2014-01-01  0.603652          NaN\n",
       "2014-01-02  0.608096     0.007335\n",
       "2014-01-03  0.609125     0.001691\n",
       "2014-01-04  0.609153     0.000046\n",
       "2014-01-05  0.609537     0.000630\n",
       "...              ...          ...\n",
       "2014-09-04  0.607481     0.000594\n",
       "2014-09-05  0.612671     0.008507\n",
       "2014-09-06  0.612481    -0.000310\n",
       "2014-09-07  0.612472    -0.000015\n",
       "2014-09-08  0.616798     0.007038\n",
       "\n",
       "[250 rows x 2 columns]"
      ]
     },
     "execution_count": 29,
     "metadata": {},
     "output_type": "execute_result"
    }
   ],
   "source": [
    "xt"
   ]
  },
  {
   "cell_type": "code",
   "execution_count": 30,
   "metadata": {},
   "outputs": [],
   "source": [
    "x2= xt.drop(columns=['RATE'])"
   ]
  },
  {
   "cell_type": "code",
   "execution_count": 31,
   "metadata": {},
   "outputs": [],
   "source": [
    "y2= yt.drop(columns=['close'])"
   ]
  },
  {
   "cell_type": "code",
   "execution_count": 32,
   "metadata": {},
   "outputs": [],
   "source": [
    "x3=x2.drop(x2.index[0])"
   ]
  },
  {
   "cell_type": "code",
   "execution_count": 33,
   "metadata": {},
   "outputs": [],
   "source": [
    "y3=y2.drop(y2.index[0])"
   ]
  },
  {
   "cell_type": "markdown",
   "metadata": {},
   "source": [
    "Converting the data frames to numpy arrays"
   ]
  },
  {
   "cell_type": "code",
   "execution_count": 34,
   "metadata": {},
   "outputs": [],
   "source": [
    "x= x3.to_numpy()"
   ]
  },
  {
   "cell_type": "code",
   "execution_count": 35,
   "metadata": {},
   "outputs": [],
   "source": [
    "y= y3.to_numpy()"
   ]
  },
  {
   "cell_type": "markdown",
   "metadata": {},
   "source": [
    "Using the Numpy OLS method to calculate coefficients"
   ]
  },
  {
   "cell_type": "code",
   "execution_count": 36,
   "metadata": {},
   "outputs": [
    {
     "name": "stdout",
     "output_type": "stream",
     "text": [
      "alpha = 0.00746792238309582 \n",
      "beta = -0.33430247379969463\n"
     ]
    }
   ],
   "source": [
    "beta = ((np.multiply(y, x)).mean()-np.mean(x)*np.mean(y))/((np.multiply(x, x)).mean()-np.mean(x)*np.mean(x))\n",
    "alpha =np.mean(y)-beta*np.mean(x)\n",
    "print(\"alpha =\",alpha, \"\\nbeta =\",beta)"
   ]
  },
  {
   "cell_type": "code",
   "execution_count": 37,
   "metadata": {
    "scrolled": true
   },
   "outputs": [
    {
     "data": {
      "text/plain": [
       "1.2537743290470926"
      ]
     },
     "execution_count": 37,
     "metadata": {},
     "output_type": "execute_result"
    }
   ],
   "source": [
    "y_hat = alpha + np.multiply(beta,x)\n",
    "L = np.sum(np.multiply(y - y_hat,y - y_hat))\n",
    "L"
   ]
  },
  {
   "cell_type": "markdown",
   "metadata": {},
   "source": [
    "Using the Gradient Descent method, OLS is the calculated again"
   ]
  },
  {
   "cell_type": "code",
   "execution_count": 38,
   "metadata": {},
   "outputs": [],
   "source": [
    "def  cal_cost(alpha,beta,x,y):\n",
    "        n = len(y)\n",
    "        predictions = alpha + np.multiply(beta,x)\n",
    "        cost = (1/2*n) * np.sum(np.square(predictions-y))\n",
    "        return cost"
   ]
  },
  {
   "cell_type": "code",
   "execution_count": 39,
   "metadata": {},
   "outputs": [
    {
     "data": {
      "text/plain": [
       "156.09490396636303"
      ]
     },
     "execution_count": 39,
     "metadata": {},
     "output_type": "execute_result"
    }
   ],
   "source": [
    "cal_cost(alpha,beta,x,y)"
   ]
  },
  {
   "cell_type": "code",
   "execution_count": 40,
   "metadata": {},
   "outputs": [
    {
     "data": {
      "text/plain": [
       "3095577.6372409146"
      ]
     },
     "execution_count": 40,
     "metadata": {},
     "output_type": "execute_result"
    }
   ],
   "source": [
    "cal_cost(10,beta,x,y)"
   ]
  },
  {
   "cell_type": "code",
   "execution_count": 41,
   "metadata": {},
   "outputs": [],
   "source": [
    "iterations = 500\n",
    "learningrate = 0.01\n",
    "beta0 = -11\n",
    "beta1 = 0\n",
    "n = len(y)\n",
    "index = np.arange(1, iterations+1, 1).reshape((iterations, 1))\n",
    "\n",
    "loss_history = np.zeros((iterations,1))\n",
    "beta0_history = np.zeros((iterations,1))\n",
    "beta1_history = np.zeros((iterations,1))\n",
    "\n",
    "for i in range(iterations):\n",
    "       \n",
    "        prediction = beta0 + np.multiply(beta1,x)\n",
    "        residuals = y-prediction\n",
    "        residuals_sum = sum(residuals)\n",
    "        beta0_gradient = -(1/n)*residuals_sum*(learningrate)\n",
    "        beta0 = beta0 - beta0_gradient\n",
    "        beta0_history[i] = beta0\n",
    "    \n",
    "        residuals_x = np.multiply(residuals,x)\n",
    "        residuals_x_sum = sum(residuals_x)\n",
    "        beta1_gradient = -(1/n)*residuals_x_sum*(learningrate)\n",
    "        beta1 = beta1 - beta1_gradient\n",
    "        beta1_history[i] = beta1\n",
    "    \n",
    "        loss_history[i] = cal_cost(beta0,beta1,x,y)"
   ]
  },
  {
   "cell_type": "code",
   "execution_count": 42,
   "metadata": {},
   "outputs": [
    {
     "data": {
      "text/plain": [
       "[<matplotlib.lines.Line2D at 0x7fd3ec57c3d0>]"
      ]
     },
     "execution_count": 42,
     "metadata": {},
     "output_type": "execute_result"
    },
    {
     "data": {
      "image/png": "[encoded data removed]",
      "text/plain": [
       "<Figure size 432x288 with 3 Axes>"
      ]
     },
     "metadata": {
      "needs_background": "light"
     },
     "output_type": "display_data"
    }
   ],
   "source": [
    "plt.subplot(311)\n",
    "plt.plot(index, beta0_history,'go')\n",
    "plt.subplot(312)\n",
    "plt.plot(index, beta1_history,'go')\n",
    "plt.subplot(313)\n",
    "plt.plot(index, loss_history,'go')"
   ]
  },
  {
   "cell_type": "code",
   "execution_count": 43,
   "metadata": {},
   "outputs": [
    {
     "data": {
      "text/plain": [
       "array([0.00093492])"
      ]
     },
     "execution_count": 43,
     "metadata": {},
     "output_type": "execute_result"
    }
   ],
   "source": [
    "beta1"
   ]
  },
  {
   "cell_type": "code",
   "execution_count": 44,
   "metadata": {},
   "outputs": [
    {
     "data": {
      "text/plain": [
       "array([-0.06488527])"
      ]
     },
     "execution_count": 44,
     "metadata": {},
     "output_type": "execute_result"
    }
   ],
   "source": [
    "beta0"
   ]
  },
  {
   "cell_type": "code",
   "execution_count": null,
   "metadata": {},
   "outputs": [],
   "source": []
  }
 ],
 "metadata": {
  "kernelspec": {
   "display_name": "Python 3",
   "language": "python",
   "name": "python3"
  },
  "language_info": {
   "codemirror_mode": {
    "name": "ipython",
    "version": 3
   },
   "file_extension": ".py",
   "mimetype": "text/x-python",
   "name": "python",
   "nbconvert_exporter": "python",
   "pygments_lexer": "ipython3",
   "version": "3.8.5"
  }
 },
 "nbformat": 4,
 "nbformat_minor": 4
}
